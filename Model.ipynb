{
 "cells": [
  {
   "cell_type": "code",
   "execution_count": 1,
   "id": "40700fff-05d6-4f44-8910-b9bc0cce8bcd",
   "metadata": {},
   "outputs": [],
   "source": [
    "import numpy as np\n",
    "import pandas as pd\n",
    "import matplotlib.pyplot as plt\n",
    "\n",
    "from keras.layers import Dense, LSTM, Lambda\n",
    "from keras.models import Sequential, Model\n",
    "from keras.layers.advanced_activations import LeakyReLU\n",
    "\n",
    "from sklearn.model_selection import train_test_split\n",
    "from sklearn.preprocessing import StandardScaler, MinMaxScaler\n",
    "from sklearn.metrics import mean_squared_error"
   ]
  },
  {
   "cell_type": "markdown",
   "id": "6ea2fe1c-5a81-4790-83fd-f3765321cdd6",
   "metadata": {},
   "source": [
    "# Load and preprocess data"
   ]
  },
  {
   "cell_type": "code",
   "execution_count": 2,
   "id": "507092d2-2d39-4f78-91d3-3b06e8d6812d",
   "metadata": {},
   "outputs": [
    {
     "name": "stdout",
     "output_type": "stream",
     "text": [
      "   ID  SAMPLETIME   READING  DELTA\n",
      "0   0  2019-02-01  33195300  24300\n",
      "1   0  2019-02-02  33218900  23600\n",
      "2   0  2019-02-03  33252400  33500\n",
      "3   0  2019-02-04  33277600  25200\n",
      "4   0  2019-02-05  33299600  22000\n"
     ]
    }
   ],
   "source": [
    "ds = pd.read_csv(\"Modelar_UH2022_agg.txt\", sep='|')\n",
    "print(ds.head())"
   ]
  },
  {
   "cell_type": "code",
   "execution_count": 3,
   "id": "ebe44a97-ec00-4c81-9e6c-e9059289817c",
   "metadata": {},
   "outputs": [],
   "source": [
    "ds = ds.sort_values(by=['ID', 'SAMPLETIME'])"
   ]
  },
  {
   "cell_type": "markdown",
   "id": "e5ba6897-7ff3-4055-8e62-bfaa0d2b1e46",
   "metadata": {},
   "source": [
    "Pre: replace precipitacion == 'Ip' by 0"
   ]
  },
  {
   "cell_type": "code",
   "execution_count": 4,
   "id": "1350a3c1-1cc6-4c95-bb0a-4b2d61e5d2f3",
   "metadata": {},
   "outputs": [
    {
     "name": "stdout",
     "output_type": "stream",
     "text": [
      "   Unnamed: 0.1  Unnamed: 0         dia  tavg  tmin  tmax insolacion  \\\n",
      "0             0           0  2019-02-01  15.4  10.6  20.2        5.1   \n",
      "1             1           1  2019-02-02  12.2   9.1  15.4        7.2   \n",
      "2             2           2  2019-02-03  10.2   5.9  14.6        9.8   \n",
      "3             3           3  2019-02-04   9.6   3.2  15.9        9.9   \n",
      "4             4           4  2019-02-05  11.3   3.4  19.2       10.1   \n",
      "\n",
      "   precipitacion  pmax  pmin      observatorio  \n",
      "0            0.6  -999  -999  ALICANTE/ALACANT  \n",
      "1            0.0  -999  -999  ALICANTE/ALACANT  \n",
      "2            0.0  -999  -999  ALICANTE/ALACANT  \n",
      "3            0.0  -999  -999  ALICANTE/ALACANT  \n",
      "4            0.0  -999  -999  ALICANTE/ALACANT  \n"
     ]
    }
   ],
   "source": [
    "temp = pd.read_csv('temperaturas_aemet.csv', decimal=',')\n",
    "print(temp.head())"
   ]
  },
  {
   "cell_type": "code",
   "execution_count": 5,
   "id": "a08549eb-aa45-4f6c-b643-5706da07f64e",
   "metadata": {},
   "outputs": [
    {
     "data": {
      "text/plain": [
       "array(['ALICANTE/ALACANT', 'CASTELLÓN - ALMASSORA',\n",
       "       'CASTELLÓ DE LA PLANA', 'JÁVEA/ XÀBIA', 'VALÈNCIA, VIVEROS',\n",
       "       'VINARÒS'], dtype=object)"
      ]
     },
     "execution_count": 5,
     "metadata": {},
     "output_type": "execute_result"
    }
   ],
   "source": [
    "temp['observatorio'].unique()"
   ]
  },
  {
   "cell_type": "code",
   "execution_count": 6,
   "id": "f6569d84-e085-4f8d-b76d-d064b979fcd3",
   "metadata": {},
   "outputs": [],
   "source": [
    "temp_filter = temp[temp['observatorio'] == 'ALICANTE/ALACANT']\n",
    "temp_filter = temp_filter[('2019-02-01'  <= temp_filter['dia']) & (temp_filter['dia'] <= '2020-01-31')]\n",
    "temp_filter = temp_filter.sort_values('dia')"
   ]
  },
  {
   "cell_type": "code",
   "execution_count": 7,
   "id": "a006c825-2515-447b-ad69-3aa190378839",
   "metadata": {},
   "outputs": [],
   "source": [
    "climatic_sample = temp_filter[['tavg', 'precipitacion']]"
   ]
  },
  {
   "cell_type": "code",
   "execution_count": 8,
   "id": "81f8cd42-c163-4d2c-8868-563eeb45910a",
   "metadata": {},
   "outputs": [],
   "source": [
    "cluster = pd.read_csv('cluster.csv')"
   ]
  },
  {
   "cell_type": "code",
   "execution_count": 9,
   "id": "b3e41b3d-770e-4b86-b9ef-0a9191d16145",
   "metadata": {},
   "outputs": [
    {
     "name": "stdout",
     "output_type": "stream",
     "text": [
      "reading serie:0\n",
      "reading serie:20\n",
      "reading serie:40\n",
      "reading serie:60\n",
      "reading serie:80\n",
      "reading serie:100\n",
      "reading serie:120\n",
      "reading serie:140\n",
      "reading serie:160\n",
      "reading serie:180\n",
      "reading serie:200\n",
      "reading serie:220\n",
      "reading serie:240\n",
      "reading serie:260\n",
      "reading serie:280\n",
      "reading serie:300\n",
      "reading serie:320\n",
      "reading serie:340\n",
      "reading serie:360\n",
      "reading serie:380\n",
      "reading serie:400\n",
      "reading serie:420\n",
      "reading serie:440\n",
      "reading serie:460\n",
      "reading serie:480\n",
      "reading serie:500\n",
      "reading serie:520\n",
      "reading serie:540\n",
      "reading serie:560\n",
      "reading serie:580\n",
      "reading serie:600\n",
      "reading serie:620\n",
      "reading serie:640\n",
      "reading serie:660\n",
      "reading serie:680\n",
      "reading serie:700\n",
      "reading serie:720\n",
      "reading serie:740\n",
      "reading serie:760\n",
      "reading serie:780\n",
      "reading serie:800\n",
      "reading serie:820\n",
      "reading serie:840\n",
      "reading serie:860\n",
      "reading serie:880\n",
      "reading serie:900\n",
      "reading serie:920\n",
      "reading serie:940\n",
      "reading serie:960\n",
      "reading serie:980\n",
      "reading serie:1000\n",
      "reading serie:1020\n",
      "reading serie:1040\n",
      "reading serie:1060\n",
      "reading serie:1080\n",
      "reading serie:1100\n",
      "reading serie:1120\n",
      "reading serie:1140\n",
      "reading serie:1160\n",
      "reading serie:1180\n",
      "reading serie:1200\n",
      "reading serie:1220\n",
      "reading serie:1240\n",
      "reading serie:1260\n",
      "reading serie:1280\n",
      "reading serie:1300\n",
      "reading serie:1320\n",
      "reading serie:1340\n",
      "reading serie:1360\n",
      "reading serie:1380\n",
      "reading serie:1400\n",
      "reading serie:1420\n",
      "reading serie:1440\n",
      "reading serie:1460\n",
      "reading serie:1480\n",
      "reading serie:1500\n",
      "reading serie:1520\n",
      "reading serie:1540\n",
      "reading serie:1560\n",
      "reading serie:1580\n",
      "reading serie:1600\n",
      "reading serie:1620\n",
      "reading serie:1640\n",
      "reading serie:1660\n",
      "reading serie:1680\n",
      "reading serie:1700\n",
      "reading serie:1720\n",
      "reading serie:1740\n",
      "reading serie:1760\n",
      "reading serie:1780\n",
      "reading serie:1800\n",
      "reading serie:1820\n",
      "reading serie:1840\n",
      "reading serie:1860\n",
      "reading serie:1880\n",
      "reading serie:1900\n",
      "reading serie:1920\n",
      "reading serie:1940\n",
      "reading serie:1960\n",
      "reading serie:1980\n",
      "reading serie:2000\n",
      "reading serie:2020\n",
      "reading serie:2040\n",
      "reading serie:2060\n",
      "reading serie:2080\n",
      "reading serie:2100\n",
      "reading serie:2120\n",
      "reading serie:2140\n",
      "reading serie:2160\n",
      "reading serie:2180\n",
      "reading serie:2200\n",
      "reading serie:2220\n",
      "reading serie:2240\n",
      "reading serie:2260\n",
      "reading serie:2280\n",
      "reading serie:2300\n",
      "reading serie:2320\n",
      "reading serie:2340\n",
      "reading serie:2360\n",
      "reading serie:2380\n",
      "reading serie:2400\n",
      "reading serie:2420\n",
      "reading serie:2440\n",
      "reading serie:2460\n",
      "reading serie:2480\n",
      "reading serie:2500\n",
      "reading serie:2520\n",
      "reading serie:2540\n",
      "reading serie:2560\n",
      "reading serie:2580\n",
      "reading serie:2600\n",
      "reading serie:2620\n",
      "reading serie:2640\n",
      "reading serie:2660\n",
      "reading serie:2680\n",
      "reading serie:2700\n",
      "reading serie:2720\n"
     ]
    }
   ],
   "source": [
    "X = []\n",
    "y = []\n",
    "\n",
    "for serie in ds['ID'].unique():\n",
    "    if serie% 20 == 0:\n",
    "        print('reading serie:'+ str(serie))\n",
    "    serie_samples = pd.Series(data=np.zeros(365),index=ds['SAMPLETIME'].unique())\n",
    "    sample = ds.loc[ds['ID'] == serie, 'DELTA']\n",
    "    sample.index = ds.loc[ds['ID'] == serie, 'SAMPLETIME']\n",
    "    serie_samples.loc[ds.loc[(ds['ID'] == serie), 'SAMPLETIME']] = sample\n",
    "    \n",
    "    clus_sample = np.full(365, cluster.loc[cluster['id'] == serie,'cluster'])\n",
    "\n",
    "    \n",
    "    single_sample = np.array(np.column_stack([serie_samples, climatic_sample, clus_sample]))\n",
    "    X.append(single_sample[:(365-14), :])\n",
    "    y.append(serie_samples[(365-14):])\n",
    "    # ids.append(serie)"
   ]
  },
  {
   "cell_type": "code",
   "execution_count": 10,
   "id": "ff7603c7-4ba9-4cbe-90ac-e338f863c072",
   "metadata": {},
   "outputs": [],
   "source": [
    "X = np.array(X).astype('float32')\n",
    "y = np.array(y).astype('float32')"
   ]
  },
  {
   "cell_type": "code",
   "execution_count": 11,
   "id": "7e380087-d528-42d9-95d5-e3a541206dd2",
   "metadata": {},
   "outputs": [],
   "source": [
    "def scaler(X):\n",
    "    return (X - X.mean()) / X.std()\n",
    "\n",
    "def reverse_scaler(X, X_org):\n",
    "    return (X * X_org.std()) + X_org.mean()"
   ]
  },
  {
   "cell_type": "code",
   "execution_count": 12,
   "id": "a0872a88-b7a6-4cea-acd6-fdb586de4880",
   "metadata": {},
   "outputs": [],
   "source": [
    "def mix_max(X):\n",
    "    return (X - X.min()) / (X.max() - X.min())\n",
    "\n",
    "def reverse_mix_max(X, X_org):\n",
    "    return X * (X_org.max() - X_org.min()) + X_org.min()\n"
   ]
  },
  {
   "cell_type": "code",
   "execution_count": null,
   "id": "21854616-cbae-4548-bb4a-b4d31a079699",
   "metadata": {},
   "outputs": [],
   "source": []
  },
  {
   "cell_type": "code",
   "execution_count": null,
   "id": "6192863b-fdd5-42e0-82ab-2506597a99c4",
   "metadata": {},
   "outputs": [],
   "source": []
  },
  {
   "cell_type": "markdown",
   "id": "28bc819f-1873-4f82-8a4a-20673388c523",
   "metadata": {},
   "source": [
    "# Model evaluation"
   ]
  },
  {
   "cell_type": "code",
   "execution_count": 13,
   "id": "087d5343-b92f-4c6b-b0a5-53f17ed2a390",
   "metadata": {},
   "outputs": [],
   "source": [
    "N = 14"
   ]
  },
  {
   "cell_type": "code",
   "execution_count": 14,
   "id": "a9351a5a-3a6c-4fe4-92eb-375a75fbd6c9",
   "metadata": {},
   "outputs": [],
   "source": [
    "X_train, X_test, y_train, y_test = train_test_split(X, y, test_size=0.33, random_state=42)"
   ]
  },
  {
   "cell_type": "code",
   "execution_count": 15,
   "id": "45243a86-c8f0-4147-a85f-2ac70132b8ce",
   "metadata": {},
   "outputs": [
    {
     "name": "stderr",
     "output_type": "stream",
     "text": [
      "2022-03-18 16:44:10.388319: I tensorflow/core/platform/cpu_feature_guard.cc:151] This TensorFlow binary is optimized with oneAPI Deep Neural Network Library (oneDNN) to use the following CPU instructions in performance-critical operations:  SSE4.1 SSE4.2 AVX AVX2 AVX512F FMA\n",
      "To enable them in other operations, rebuild TensorFlow with the appropriate compiler flags.\n"
     ]
    }
   ],
   "source": [
    "model = Sequential()\n",
    "model.add(LSTM(128, input_shape=X.shape[1:], return_sequences=True))\n",
    "model.add(LSTM(64, input_shape=X.shape[1:], return_sequences=True))\n",
    "model.add(Dense(1, activation='tanh'))\n",
    "model.add(Lambda(lambda x: x[:, -N:])) #Select last N from output\n",
    "model.compile(optimizer='adam', loss='mse')"
   ]
  },
  {
   "cell_type": "code",
   "execution_count": 16,
   "id": "1426f3a9-21ce-4e81-851e-3895ca3c55af",
   "metadata": {},
   "outputs": [
    {
     "name": "stdout",
     "output_type": "stream",
     "text": [
      "Epoch 1/5\n",
      "46/46 [==============================] - 22s 442ms/step - loss: 1.0614 - val_loss: 0.1035\n",
      "Epoch 2/5\n",
      "46/46 [==============================] - 20s 427ms/step - loss: 1.0220 - val_loss: 0.1026\n",
      "Epoch 3/5\n",
      "46/46 [==============================] - 20s 434ms/step - loss: 1.0199 - val_loss: 0.1009\n",
      "Epoch 4/5\n",
      "46/46 [==============================] - 20s 430ms/step - loss: 1.0242 - val_loss: 0.0945\n",
      "Epoch 5/5\n",
      "46/46 [==============================] - 20s 426ms/step - loss: 1.0203 - val_loss: 0.0975\n"
     ]
    },
    {
     "data": {
      "text/plain": [
       "<keras.callbacks.History at 0x7f7ad40f5a90>"
      ]
     },
     "execution_count": 16,
     "metadata": {},
     "output_type": "execute_result"
    }
   ],
   "source": [
    "model.fit(scaler(X_train), scaler(y_train), epochs=5, validation_split=0.2)"
   ]
  },
  {
   "cell_type": "code",
   "execution_count": 17,
   "id": "7b95038b-216c-4e94-ad77-f73f99b1c6a3",
   "metadata": {},
   "outputs": [
    {
     "name": "stdout",
     "output_type": "stream",
     "text": [
      "29/29 [==============================] - 4s 150ms/step - loss: 1.4986\n"
     ]
    },
    {
     "data": {
      "text/plain": [
       "1.4986279010772705"
      ]
     },
     "execution_count": 17,
     "metadata": {},
     "output_type": "execute_result"
    }
   ],
   "source": [
    "model.evaluate(scaler(X_test), scaler(y_test))"
   ]
  },
  {
   "cell_type": "code",
   "execution_count": 120,
   "id": "39a76575-14b1-4b2d-a42b-b2a1a9b5d771",
   "metadata": {},
   "outputs": [],
   "source": [
    "preds = model.predict(scaler(X))"
   ]
  },
  {
   "cell_type": "code",
   "execution_count": 121,
   "id": "8404a318-2549-4917-86cf-d97aa2a3b3a7",
   "metadata": {},
   "outputs": [
    {
     "data": {
      "text/plain": [
       "37010510000.0"
      ]
     },
     "execution_count": 121,
     "metadata": {},
     "output_type": "execute_result"
    }
   ],
   "source": [
    "mean_squared_error(y, reverse_scaler(preds.reshape((-1, 14)), y))"
   ]
  },
  {
   "cell_type": "code",
   "execution_count": 122,
   "id": "0d2a63e4-7fec-4ef0-8f24-b5bf96bd38d8",
   "metadata": {},
   "outputs": [
    {
     "data": {
      "text/plain": [
       "37008744000.0"
      ]
     },
     "execution_count": 122,
     "metadata": {},
     "output_type": "execute_result"
    }
   ],
   "source": [
    "predictions = reverse_scaler(preds,y)\n",
    "predictions[predictions < 0] = 0\n",
    "predictions[predictions > y.max()] = y.max()\n",
    "# predictions[X[:, 0, -1] == 5] = 0\n",
    "# predictions[X[:, 0, -1] == 9] = 0 \n",
    "\n",
    "mean_squared_error(y,predictions.reshape((-1, 14)))"
   ]
  },
  {
   "cell_type": "code",
   "execution_count": 21,
   "id": "3e4f17fe-ec25-4585-b63c-9ace78e35d74",
   "metadata": {},
   "outputs": [
    {
     "data": {
      "image/png": "[encoded data removed]",
      "text/plain": [
       "<Figure size 432x288 with 1 Axes>"
      ]
     },
     "metadata": {
      "needs_background": "light"
     },
     "output_type": "display_data"
    },
    {
     "data": {
      "image/png": "[encoded data removed]",
      "text/plain": [
       "<Figure size 432x288 with 1 Axes>"
      ]
     },
     "metadata": {
      "needs_background": "light"
     },
     "output_type": "display_data"
    },
    {
     "data": {
      "image/png": "[encoded data removed]",
      "text/plain": [
       "<Figure size 432x288 with 1 Axes>"
      ]
     },
     "metadata": {
      "needs_background": "light"
     },
     "output_type": "display_data"
    },
    {
     "data": {
      "image/png": "[encoded data removed]",
      "text/plain": [
       "<Figure size 432x288 with 1 Axes>"
      ]
     },
     "metadata": {
      "needs_background": "light"
     },
     "output_type": "display_data"
    },
    {
     "data": {
      "image/png": "[encoded data removed]",
      "text/plain": [
       "<Figure size 432x288 with 1 Axes>"
      ]
     },
     "metadata": {
      "needs_background": "light"
     },
     "output_type": "display_data"
    },
    {
     "data": {
      "image/png": "[encoded data removed]",
      "text/plain": [
       "<Figure size 432x288 with 1 Axes>"
      ]
     },
     "metadata": {
      "needs_background": "light"
     },
     "output_type": "display_data"
    },
    {
     "data": {
      "image/png": "[encoded data removed]",
      "text/plain": [
       "<Figure size 432x288 with 1 Axes>"
      ]
     },
     "metadata": {
      "needs_background": "light"
     },
     "output_type": "display_data"
    },
    {
     "data": {
      "image/png": "[encoded data removed]",
      "text/plain": [
       "<Figure size 432x288 with 1 Axes>"
      ]
     },
     "metadata": {
      "needs_background": "light"
     },
     "output_type": "display_data"
    },
    {
     "data": {
      "image/png": "[encoded data removed]",
      "text/plain": [
       "<Figure size 432x288 with 1 Axes>"
      ]
     },
     "metadata": {
      "needs_background": "light"
     },
     "output_type": "display_data"
    },
    {
     "data": {
      "image/png": "[encoded data removed]",
      "text/plain": [
       "<Figure size 432x288 with 1 Axes>"
      ]
     },
     "metadata": {
      "needs_background": "light"
     },
     "output_type": "display_data"
    }
   ],
   "source": [
    "for i in range(10):\n",
    "    plt.plot(predictions[i], label='pred')\n",
    "    plt.plot(y[i], label='actual')\n",
    "    plt.legend()\n",
    "    plt.show()"
   ]
  },
  {
   "cell_type": "markdown",
   "id": "86cd7bf8-c371-4bf8-97d3-c29ac82089e0",
   "metadata": {},
   "source": [
    "Con temperatura y precipitación: 37186940000.0\n",
    "\n",
    "Lo mismo a dos capas: 37084725000.0 (Millor pero no hay una gran diferencia)\n",
    "\n",
    "Con cluster, temperatura y precipitación: 36851003000.0\n",
    "\n",
    "Con cluster, temperatura: 36769407000.0\n",
    "\n",
    "Jose truc: 36884816000.0\n",
    "\n",
    "Solo cluster: 36897430000.0\n",
    "\n",
    "Con todos los datos: 37354287000.0\n",
    "\n",
    "Con 120 iteraciones (se me ha ido): 36770853000.0\n",
    "\n",
    "Agragando la temperatura y las precipitaciones: 37426340000.0"
   ]
  },
  {
   "cell_type": "code",
   "execution_count": null,
   "id": "a7977947-03b4-4c91-bd2a-bca3b34da2af",
   "metadata": {},
   "outputs": [],
   "source": []
  },
  {
   "cell_type": "code",
   "execution_count": null,
   "id": "adbc1a13-0894-4787-a7dc-a6eeeaca8a7b",
   "metadata": {},
   "outputs": [],
   "source": []
  },
  {
   "cell_type": "markdown",
   "id": "7fb04ad0-2f21-4238-9a20-55f3d11d9d61",
   "metadata": {},
   "source": [
    "Copiando la semana anterior va mejor que con la LSTM"
   ]
  },
  {
   "cell_type": "code",
   "execution_count": 71,
   "id": "9474a8d3-0986-483e-8423-6ca87502a7ae",
   "metadata": {},
   "outputs": [
    {
     "data": {
      "text/plain": [
       "27526658000.0"
      ]
     },
     "execution_count": 71,
     "metadata": {},
     "output_type": "execute_result"
    }
   ],
   "source": [
    "mean_squared_error(y, X[:, -14:, 0])"
   ]
  },
  {
   "cell_type": "code",
   "execution_count": 70,
   "id": "811babbb-b888-46b2-b089-cbd1dd0ecbba",
   "metadata": {},
   "outputs": [
    {
     "data": {
      "text/plain": [
       "True"
      ]
     },
     "execution_count": 70,
     "metadata": {},
     "output_type": "execute_result"
    }
   ],
   "source": [
    "mean_squared_error(y, X[:, -14:, 0]) < mean_squared_error(y,predictions.reshape((-1, 14)))"
   ]
  },
  {
   "cell_type": "code",
   "execution_count": null,
   "id": "3ffea9b4-4538-4d22-9bfc-ff81962b6b7f",
   "metadata": {},
   "outputs": [],
   "source": []
  },
  {
   "cell_type": "code",
   "execution_count": null,
   "id": "0b26b8c0-67b4-4758-805a-896b23e3ea3f",
   "metadata": {},
   "outputs": [],
   "source": []
  },
  {
   "cell_type": "code",
   "execution_count": null,
   "id": "6d789d8c-95fd-44e6-be49-662f76902eb5",
   "metadata": {},
   "outputs": [],
   "source": []
  },
  {
   "cell_type": "markdown",
   "id": "46116f34-d1ef-4887-885a-df96283d1040",
   "metadata": {},
   "source": [
    "# Predictions"
   ]
  },
  {
   "cell_type": "code",
   "execution_count": 22,
   "id": "d56d8495-1dad-4def-a59b-b7e2d8970b0a",
   "metadata": {},
   "outputs": [
    {
     "name": "stdout",
     "output_type": "stream",
     "text": [
      "reading serie:0\n",
      "reading serie:20\n",
      "reading serie:40\n",
      "reading serie:60\n",
      "reading serie:80\n",
      "reading serie:100\n",
      "reading serie:120\n",
      "reading serie:140\n",
      "reading serie:160\n",
      "reading serie:180\n",
      "reading serie:200\n",
      "reading serie:220\n",
      "reading serie:240\n",
      "reading serie:260\n",
      "reading serie:280\n",
      "reading serie:300\n",
      "reading serie:320\n",
      "reading serie:340\n",
      "reading serie:360\n",
      "reading serie:380\n",
      "reading serie:400\n",
      "reading serie:420\n",
      "reading serie:440\n",
      "reading serie:460\n",
      "reading serie:480\n",
      "reading serie:500\n",
      "reading serie:520\n",
      "reading serie:540\n",
      "reading serie:560\n",
      "reading serie:580\n",
      "reading serie:600\n",
      "reading serie:620\n",
      "reading serie:640\n",
      "reading serie:660\n",
      "reading serie:680\n",
      "reading serie:700\n",
      "reading serie:720\n",
      "reading serie:740\n",
      "reading serie:760\n",
      "reading serie:780\n",
      "reading serie:800\n",
      "reading serie:820\n",
      "reading serie:840\n",
      "reading serie:860\n",
      "reading serie:880\n",
      "reading serie:900\n",
      "reading serie:920\n",
      "reading serie:940\n",
      "reading serie:960\n",
      "reading serie:980\n",
      "reading serie:1000\n",
      "reading serie:1020\n",
      "reading serie:1040\n",
      "reading serie:1060\n",
      "reading serie:1080\n",
      "reading serie:1100\n",
      "reading serie:1120\n",
      "reading serie:1140\n",
      "reading serie:1160\n",
      "reading serie:1180\n",
      "reading serie:1200\n",
      "reading serie:1220\n",
      "reading serie:1240\n",
      "reading serie:1260\n",
      "reading serie:1280\n",
      "reading serie:1300\n",
      "reading serie:1320\n",
      "reading serie:1340\n",
      "reading serie:1360\n",
      "reading serie:1380\n",
      "reading serie:1400\n",
      "reading serie:1420\n",
      "reading serie:1440\n",
      "reading serie:1460\n",
      "reading serie:1480\n",
      "reading serie:1500\n",
      "reading serie:1520\n",
      "reading serie:1540\n",
      "reading serie:1560\n",
      "reading serie:1580\n",
      "reading serie:1600\n",
      "reading serie:1620\n",
      "reading serie:1640\n",
      "reading serie:1660\n",
      "reading serie:1680\n",
      "reading serie:1700\n",
      "reading serie:1720\n",
      "reading serie:1740\n",
      "reading serie:1760\n",
      "reading serie:1780\n",
      "reading serie:1800\n",
      "reading serie:1820\n",
      "reading serie:1840\n",
      "reading serie:1860\n",
      "reading serie:1880\n",
      "reading serie:1900\n",
      "reading serie:1920\n",
      "reading serie:1940\n",
      "reading serie:1960\n",
      "reading serie:1980\n",
      "reading serie:2000\n",
      "reading serie:2020\n",
      "reading serie:2040\n",
      "reading serie:2060\n",
      "reading serie:2080\n",
      "reading serie:2100\n",
      "reading serie:2120\n",
      "reading serie:2140\n",
      "reading serie:2160\n",
      "reading serie:2180\n",
      "reading serie:2200\n",
      "reading serie:2220\n",
      "reading serie:2240\n",
      "reading serie:2260\n",
      "reading serie:2280\n",
      "reading serie:2300\n",
      "reading serie:2320\n",
      "reading serie:2340\n",
      "reading serie:2360\n",
      "reading serie:2380\n",
      "reading serie:2400\n",
      "reading serie:2420\n",
      "reading serie:2440\n",
      "reading serie:2460\n",
      "reading serie:2480\n",
      "reading serie:2500\n",
      "reading serie:2520\n",
      "reading serie:2540\n",
      "reading serie:2560\n",
      "reading serie:2580\n",
      "reading serie:2600\n",
      "reading serie:2620\n",
      "reading serie:2640\n",
      "reading serie:2660\n",
      "reading serie:2680\n",
      "reading serie:2700\n",
      "reading serie:2720\n"
     ]
    }
   ],
   "source": [
    "X_pred = []\n",
    "\n",
    "for serie in ds['ID'].unique():\n",
    "    if serie% 20 == 0:\n",
    "        print('reading serie:'+ str(serie))\n",
    "    serie_samples = pd.Series(data=np.zeros(365),index=ds['SAMPLETIME'].unique())\n",
    "    sample = ds.loc[ds['ID'] == serie, 'DELTA']\n",
    "    sample.index = ds.loc[ds['ID'] == serie, 'SAMPLETIME']\n",
    "    serie_samples.loc[ds.loc[(ds['ID'] == serie), 'SAMPLETIME']] = sample\n",
    "    \n",
    "    clus_sample = np.full(365, cluster.loc[cluster['id'] == serie,'cluster'])\n",
    "\n",
    "    \n",
    "    single_sample = np.array(np.column_stack([serie_samples, climatic_sample, clus_sample]))\n",
    "    X_pred.append(single_sample[14:, :])\n",
    "    # ids.append(serie)\n",
    "    \n",
    "X_pred = np.array(X_pred).astype('float32')\n"
   ]
  },
  {
   "cell_type": "code",
   "execution_count": 72,
   "id": "9de977ba-535e-4b69-953e-683690e720b3",
   "metadata": {},
   "outputs": [],
   "source": [
    "result = model.predict(scaler(X_pred))"
   ]
  },
  {
   "cell_type": "markdown",
   "id": "7081c8fc-047f-4641-9d78-d45a2e5a52f2",
   "metadata": {},
   "source": [
    "Idea feliz, la media y desviación típica de lo que prediga será la misma que la de las dos semanas anteriores"
   ]
  },
  {
   "cell_type": "code",
   "execution_count": 73,
   "id": "ae2485fb-1e3c-4e87-ad35-43c752bc7014",
   "metadata": {},
   "outputs": [],
   "source": [
    "result = reverse_scaler(result, y)"
   ]
  },
  {
   "cell_type": "code",
   "execution_count": 74,
   "id": "fe53a120-f9bb-4d58-9f1d-5ea82b0b4fe3",
   "metadata": {},
   "outputs": [],
   "source": [
    "result = result/10"
   ]
  },
  {
   "cell_type": "code",
   "execution_count": 123,
   "id": "17bb020d-ae85-4c9d-90bb-104192393aa3",
   "metadata": {},
   "outputs": [],
   "source": [
    "result[result < 0] = 0\n",
    "result[result > y.max()] = y.max()\n"
   ]
  },
  {
   "cell_type": "code",
   "execution_count": 124,
   "id": "47e0c309-522a-4840-b9c5-83fcef86d3c2",
   "metadata": {},
   "outputs": [],
   "source": [
    "result = result.reshape(2747,14)"
   ]
  },
  {
   "cell_type": "code",
   "execution_count": 125,
   "id": "838235fe-1ec3-486d-b372-91f48631f83b",
   "metadata": {},
   "outputs": [],
   "source": [
    "final_file = pd.DataFrame(np.transpose([ds['ID'].unique(), result[:,0],  result[:,1],  result[:,2],  result[:,3],\n",
    "                       result[:,4],  result[:,5],  result[:,6], result[:,0:7].sum(axis=1),\n",
    "                       result[:,7:14].sum(axis=1).round(2)]), columns=['ID', 'Dia_1', 'Dia_2', 'Dia_3', 'Dia_4',\n",
    "                                                               'Dia_5', 'Dia_6', 'Dia_7', 'Semana_1', 'Semana_2'])"
   ]
  },
  {
   "cell_type": "code",
   "execution_count": 126,
   "id": "989b35cf-01b7-4e3f-b2b3-9de1d5a6fb7e",
   "metadata": {},
   "outputs": [],
   "source": [
    "final_file = final_file.round(2)"
   ]
  },
  {
   "cell_type": "code",
   "execution_count": 127,
   "id": "61cac237-a614-4065-9e0a-e8ed64236bf5",
   "metadata": {},
   "outputs": [],
   "source": [
    "final_file['ID'] = final_file['ID'].astype('int')"
   ]
  },
  {
   "cell_type": "code",
   "execution_count": 128,
   "id": "233322de-10e0-4a6f-bb89-dbfac169bd4c",
   "metadata": {},
   "outputs": [],
   "source": [
    "final_file.to_csv('The Backpropagation Boyz.txt', sep='|', index=False)"
   ]
  }
 ],
 "metadata": {
  "kernelspec": {
   "display_name": "default:Python",
   "language": "python",
   "name": "conda-env-default-py"
  },
  "language_info": {
   "codemirror_mode": {
    "name": "ipython",
    "version": 3
   },
   "file_extension": ".py",
   "mimetype": "text/x-python",
   "name": "python",
   "nbconvert_exporter": "python",
   "pygments_lexer": "ipython3",
   "version": "3.9.10"
  }
 },
 "nbformat": 4,
 "nbformat_minor": 5
}
