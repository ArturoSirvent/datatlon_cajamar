{
  "nbformat": 4,
  "nbformat_minor": 0,
  "metadata": {
    "colab": {
      "name": "LSTM_FINAL.ipynb",
      "provenance": [],
      "collapsed_sections": []
    },
    "kernelspec": {
      "name": "python3",
      "display_name": "Python 3"
    },
    "language_info": {
      "name": "python"
    }
  },
  "cells": [
    {
      "cell_type": "markdown",
      "source": [
        "1º Hacemos una media movil (suavizado de la señal) para eliminar un poco el ruido. (Luego calculando el ruido de la señal, se volverá a añadir a la predicción un ruido de similares características.)  \n",
        "\n",
        "2º Normalizamos entre MinMax para que este la predicción entre 0 y 1.    \n",
        "\n",
        "3º Agrupamos jerarquicamente y hacemos clusters sobre los que hacer modelos.   \n",
        "\n",
        "4º Hacemos un modelo LSTM para cada cluster. Este modelo recibe una ventana temporal y predice otra futura (en principio la queremos de 7días).\n",
        "\n",
        "5º Modelo que también reciba de input señales de temperatura etc..."
      ],
      "metadata": {
        "id": "8dWWzC7tUTJY"
      }
    },
    {
      "cell_type": "markdown",
      "source": [
        "## Librerias y funciones  "
      ],
      "metadata": {
        "id": "rVOL-k1nVREU"
      }
    },
    {
      "cell_type": "code",
      "execution_count": 3,
      "metadata": {
        "id": "EwQpg7miUP0Z"
      },
      "outputs": [],
      "source": [
        "import numpy as np \n",
        "import os \n",
        "import tensorflow as tf\n",
        "import sklearn \n",
        "import matplotlib.pyplot as plt\n",
        "import pandas as pd\n",
        "from scipy import ndimage\n",
        "from sklearn.preprocessing import MinMaxScaler\n",
        "from sklearn.model_selection import train_test_split\n",
        "#clustering\n",
        "from scipy.cluster.hierarchy import complete,single, fcluster,dendrogram\n",
        "from scipy.spatial.distance import euclidean\n",
        "from scipy.spatial.distance import pdist\n",
        "from sklearn.metrics import pairwise_distances\n",
        "import datetime\n",
        "import seaborn as sns\n",
        "\n",
        "\n",
        "\n",
        "\n",
        "#esta funcion coge series como input y las secciona, dando n puntos iniciales (feature) y los m siguientes (labels)\n",
        "\n",
        "def window(data_big,size_input,size_output=None,data_aux=None):\n",
        "  if size_output is not None:\n",
        "    #esto para implementar que se devuelvan ventanas mas grandes\n",
        "    features=[]\n",
        "    labels=[]\n",
        "    #if data_aux is not None:\n",
        "      #data_aux=data_aux.T\n",
        "\n",
        "    for i in range(0,data_big.shape[0]):\n",
        "      data=data_big[i]\n",
        "      for j in range(data_big.shape[1] - size_input -size_output):\n",
        "        if data_aux is not None:\n",
        "          data_aux_slice=data_aux[j:(j+size_input),:]\n",
        "          features.append(np.hstack([data[j:(j+size_input)][...,np.newaxis],data_aux_slice]))\n",
        "        else:\n",
        "          features.append(data[j:(j+size_input)])\n",
        "        labels.append(data[(j+size_input):(j+size_input+size_output)])\n",
        "  else:\n",
        "    features=[]\n",
        "    labels=[]\n",
        "    for i in range(0,data_big.shape[0]):\n",
        "      data=data_big[i]\n",
        "      for j in range(data_big.shape[1] - size_input -1):\n",
        "        if data_aux is not None:\n",
        "          data_aux_slice=data_aux[j:(j+size_input),:]\n",
        "          features.append(np.hstack([data[j:(j+size_input)][...,np.newaxis],data_aux_slice]))\n",
        "        else:\n",
        "          features.append(data[j:(j+size_input)])\n",
        "        labels.append(data[j+size_input+1])\n",
        "  return np.array(features),np.array(labels)  \n",
        "\n",
        "\n",
        "\n",
        "#funcion que coge una serie temporal, un modelo y va predicciendo todo lo que puede \n",
        "#si toma inputs de 20 y devuelve 7, va prediciendo asi la serie temporal (de 7 en en 7 conociendo los 20 anteriores)\n",
        "def pred_model2(model,ts,window):\n",
        "  input_size=model.input_shape[1]\n",
        "  leng=ts.shape[0]\n",
        "  preds=[]\n",
        "  for i in range(input_size,leng-window,window):\n",
        "    preds.append(model.predict(ts[(i-input_size):i][np.newaxis,...])[0])\n",
        "  return np.array(preds)"
      ]
    },
    {
      "cell_type": "markdown",
      "source": [
        "### Carga y tratado de los datos"
      ],
      "metadata": {
        "id": "kF6jxpByVr_u"
      }
    },
    {
      "cell_type": "code",
      "source": [
        "from google.colab import drive\n",
        "drive.mount('/content/drive')"
      ],
      "metadata": {
        "colab": {
          "base_uri": "https://localhost:8080/"
        },
        "id": "zxPh5g6mVraR",
        "outputId": "3831574c-b2a2-48b0-96e5-de4140be3254"
      },
      "execution_count": 4,
      "outputs": [
        {
          "output_type": "stream",
          "name": "stdout",
          "text": [
            "Drive already mounted at /content/drive; to attempt to forcibly remount, call drive.mount(\"/content/drive\", force_remount=True).\n"
          ]
        }
      ]
    },
    {
      "cell_type": "code",
      "source": [
        "datos=pd.read_csv(\"/content/drive/MyDrive/MasterCD/hackatlon/datos/consumo_aggbyday_filledzeros_samelength.csv\" ,sep=\",\")\n",
        "lectura=datos.iloc[:,1:].fillna(0,inplace=False).to_numpy().T\n",
        "\n",
        "#vamos a suavizar todo y a escalarlo\n",
        "data_filtered=ndimage.gaussian_filter(lectura,[0,3],0)\n",
        "scaler=MinMaxScaler()\n",
        "data_pre=scaler.fit_transform(data_filtered.T).T"
      ],
      "metadata": {
        "id": "xnZRVoAyVw8B"
      },
      "execution_count": 5,
      "outputs": []
    },
    {
      "cell_type": "markdown",
      "source": [
        "### Clustering jerarquico"
      ],
      "metadata": {
        "id": "9nap15vfV9w8"
      }
    },
    {
      "cell_type": "code",
      "source": [
        "d=pairwise_distances(data_pre)\n",
        "a=complete(d)\n",
        "dendrogram(a);\n",
        "ind=fcluster(a,4,\"maxclust\")\n",
        "#sacamos los subgrupos, escogemos solo 4\n",
        "datos_g=[]\n",
        "for i in range(1,5):\n",
        "  datos_g.append(data_pre[ind==i])\n",
        "  print(datos_g[i-1].shape)\n",
        "\n"
      ],
      "metadata": {
        "colab": {
          "base_uri": "https://localhost:8080/",
          "height": 390
        },
        "id": "3Dju1DqsWAFA",
        "outputId": "e6ceba79-b974-4bb5-b94d-844b230b15df"
      },
      "execution_count": 7,
      "outputs": [
        {
          "output_type": "stream",
          "name": "stderr",
          "text": [
            "/usr/local/lib/python3.7/dist-packages/scipy/cluster/hierarchy.py:360: ClusterWarning: scipy.cluster: The symmetric non-negative hollow observation matrix looks suspiciously like an uncondensed distance matrix\n",
            "  return linkage(y, method='complete', metric='euclidean')\n"
          ]
        },
        {
          "output_type": "stream",
          "name": "stdout",
          "text": [
            "(196, 365)\n",
            "(1062, 365)\n",
            "(782, 365)\n",
            "(707, 365)\n"
          ]
        },
        {
          "output_type": "display_data",
          "data": {
            "text/plain": [
              "<Figure size 432x288 with 1 Axes>"
            ],
            "image/png": "[encoded data removed]"
          },
          "metadata": {
            "needs_background": "light"
          }
        }
      ]
    },
    {
      "cell_type": "markdown",
      "source": [
        "### Enventanamos los datos para crear el set de entrenamiento\n",
        "\n",
        "Procedemos solo con el subgrupo que mas elementos tiene, pero esto se debería hacer con todos."
      ],
      "metadata": {
        "id": "TcSVATpZWQpP"
      }
    },
    {
      "cell_type": "code",
      "source": [
        "feat,labs=window(datos_g[1],20,7)\n",
        "print(labs.shape,feat.shape)\n",
        "x_train,x_test,y_train,y_test= train_test_split(feat,labs,test_size=0.2)\n"
      ],
      "metadata": {
        "colab": {
          "base_uri": "https://localhost:8080/"
        },
        "id": "wuok2P7cWVOa",
        "outputId": "ab6f12d0-e955-4517-841e-bbdf47b41d19"
      },
      "execution_count": 8,
      "outputs": [
        {
          "output_type": "stream",
          "name": "stdout",
          "text": [
            "(358956, 7) (358956, 20)\n"
          ]
        }
      ]
    },
    {
      "cell_type": "markdown",
      "source": [
        "### Entrenamos la LSTM"
      ],
      "metadata": {
        "id": "IwCbJUzzWqw4"
      }
    },
    {
      "cell_type": "code",
      "source": [
        "#la creamos\n",
        "input=tf.keras.layers.Input(shape=[20,1])\n",
        "x=tf.keras.layers.LSTM(30,return_sequences=True)(input)\n",
        "x=tf.keras.layers.LSTM(60,return_sequences=False)(x)\n",
        "x=tf.keras.layers.Dense(50,activation=\"relu\",kernel_regularizer=\"l2\")(x)\n",
        "x=tf.keras.layers.Dense(7,activation=\"sigmoid\",kernel_regularizer=\"l2\")(x)\n",
        "\n",
        "model=tf.keras.Model(input,x)\n",
        "model.summary()\n"
      ],
      "metadata": {
        "colab": {
          "base_uri": "https://localhost:8080/"
        },
        "id": "gKNTICpqWqWj",
        "outputId": "f330d8c9-a5b1-48bc-e94c-041923ec6a7d"
      },
      "execution_count": 9,
      "outputs": [
        {
          "output_type": "stream",
          "name": "stdout",
          "text": [
            "Model: \"model\"\n",
            "_________________________________________________________________\n",
            " Layer (type)                Output Shape              Param #   \n",
            "=================================================================\n",
            " input_1 (InputLayer)        [(None, 20, 1)]           0         \n",
            "                                                                 \n",
            " lstm (LSTM)                 (None, 20, 30)            3840      \n",
            "                                                                 \n",
            " lstm_1 (LSTM)               (None, 60)                21840     \n",
            "                                                                 \n",
            " dense (Dense)               (None, 50)                3050      \n",
            "                                                                 \n",
            " dense_1 (Dense)             (None, 7)                 357       \n",
            "                                                                 \n",
            "=================================================================\n",
            "Total params: 29,087\n",
            "Trainable params: 29,087\n",
            "Non-trainable params: 0\n",
            "_________________________________________________________________\n"
          ]
        }
      ]
    },
    {
      "cell_type": "code",
      "source": [
        "#la entrenamos\n",
        "model.compile(optimizer=\"adam\",loss=\"mse\")\n",
        "hist=model.fit(x_train,y_train,epochs=20,batch_size=128,validation_split=0.2)"
      ],
      "metadata": {
        "colab": {
          "base_uri": "https://localhost:8080/"
        },
        "id": "zTd3l-d8W6ZM",
        "outputId": "212bb189-17a9-4cd9-a5fa-f479c6cd314b"
      },
      "execution_count": null,
      "outputs": [
        {
          "output_type": "stream",
          "name": "stdout",
          "text": [
            "Epoch 1/20\n",
            "1795/1795 [==============================] - 86s 45ms/step - loss: 0.0573 - val_loss: 0.0235\n",
            "Epoch 2/20\n",
            "1795/1795 [==============================] - 91s 51ms/step - loss: 0.0219 - val_loss: 0.0205\n",
            "Epoch 3/20\n",
            "1795/1795 [==============================] - 82s 45ms/step - loss: 0.0201 - val_loss: 0.0196\n",
            "Epoch 4/20\n",
            "1795/1795 [==============================] - 90s 50ms/step - loss: 0.0192 - val_loss: 0.0188\n",
            "Epoch 5/20\n",
            "1795/1795 [==============================] - 67s 37ms/step - loss: 0.0187 - val_loss: 0.0186\n",
            "Epoch 6/20\n",
            "1795/1795 [==============================] - 71s 39ms/step - loss: 0.0183 - val_loss: 0.0180\n",
            "Epoch 7/20\n",
            "1431/1795 [======================>.......] - ETA: 15s - loss: 0.0181"
          ]
        }
      ]
    },
    {
      "cell_type": "code",
      "source": [
        "#veamos los resultados\n",
        "plt.figure(figsize=(13,9))\n",
        "for i,m in enumerate([23,56,76,43,12,65]):\n",
        "  plt.subplot(2,3,i+1)\n",
        "  a=pred_model2(model,datos_g[1][m],7)\n",
        "  a.shape\n",
        "  a=a.flatten()\n",
        "  plt.plot(datos_g[1][m][20:])\n",
        "  plt.plot(a,\"--\")"
      ],
      "metadata": {
        "id": "OMIFLN2VW8Jr"
      },
      "execution_count": null,
      "outputs": []
    },
    {
      "cell_type": "code",
      "source": [
        "#hay un problema y es que los datos estan normalizados, entonces, tenemos que devolverlos a las magnitudes iniciales\n",
        "#eso lo vamos a hacer con una funcion\n",
        "def predict_norm(model,datos):\n",
        "  scaler=MinMaxScaler()\n",
        "  x=scaler.fit_transform(datos)\n",
        "  y_pred=model.predict(x)\n",
        "  y=scaler.inverse_transform(y_pred)\n",
        "  return y"
      ],
      "metadata": {
        "id": "oUBU4MTeYAwv"
      },
      "execution_count": null,
      "outputs": []
    },
    {
      "cell_type": "markdown",
      "source": [
        "### Añadir informacion extra (temps. etc...)"
      ],
      "metadata": {
        "id": "_lKQLeXfXXTp"
      }
    },
    {
      "cell_type": "code",
      "source": [
        "#cargamos y procesamos los datos\n",
        "#ESTO DEPENDE MUCHISIMO DEL CONJUNTO DE DATOS, SI SE USA OTRO, ESTA CELDA QUEDA DESCARTADA\n",
        "\n",
        "#vamos a meter las series temporales de temperatura, presion y tal\n",
        "extra=pd.read_csv(\"/content/drive/MyDrive/MasterCD/hackatlon/datos/2d5e32da-b460-4960-9f74-91c854e13c98.csv\" ,sep=\",\")\n",
        "#añadimos una columna DATETIME\n",
        "dict_repl={\"Enero\":\"01\",\"Febrero\":\"02\",\"Marzo\":\"03\",\"Abril\":\"04\",\"Mayo\":\"05\",\n",
        "           \"Junio\":\"06\",\"Julio\":\"7\",\"Agosto\":\"08\",\"Septiembre\":\"09\",\"Octubre\":\"10\",\n",
        "           \"Noviembre\":\"11\",\"Diciembre\":\"12\"}\n",
        "def rep_month(mon):\n",
        "  for i in dict_repl:\n",
        "    return mon.replace(i,dict_repl[i])\n",
        "#**Ojo porque no etamos especificando la estación**\n",
        "extra.loc[:,\"Mes\"]=extra.loc[:,\"Mes\"].astype(str).apply(lambda x: rep_month(x))\n",
        "extra.loc[:,\"Temp.\"]=extra.loc[:,\"Temp.\"].astype(str).apply(lambda x: x.replace(\",\",\".\")).astype(float)\n",
        "extra.loc[:,\"Pres.\"]=extra.loc[:,\"Pres.\"].astype(str).apply(lambda x: x.replace(\",\",\".\")).astype(float)\n",
        "extra.loc[:,\"Precip.\"]=extra.loc[:,\"Precip.\"].astype(str).apply(lambda x: x.replace(\",\",\".\")).astype(float)\n",
        "extra.loc[:,\"Fecha Hora\"]=extra.loc[:,\"Fecha Hora\"].astype(str).apply(lambda x: x.replace(\",\",\".\")).astype(float)\n",
        "extra=extra.sort_values(\"Fecha Hora\")\n",
        "extra.loc[:,\"Día\"]=extra.loc[:,\"Día\"].astype(str).apply(lambda x: x.zfill(2))\n",
        "extra.loc[:,\"Año\"]=extra.loc[:,\"Año\"].astype(str)\n",
        "extra[\"DATE\"]=extra.loc[:,\"Año\"]+\"-\"+extra.loc[:,\"Mes\"]+\"-\"+extra.loc[:,\"Día\"]\n",
        "print(extra.columns)\n",
        "plt.figure(figsize=(13,13))\n",
        "plt.subplot(2,2,1)\n",
        "sns.lineplot(data=extra,x=\"Fecha Hora\",y=\"Precip.\",hue=\"Estación\")\n",
        "plt.subplot(2,2,2)\n",
        "sns.lineplot(data=extra,x=\"Fecha Hora\",y=\"Temp.\",hue=\"Estación\")\n",
        "plt.subplot(2,2,3)\n",
        "sns.lineplot(data=extra,x=\"Fecha Hora\",y=\"Pres.\",hue=\"Estación\")\n",
        "extra.head()\n",
        "\n",
        "extra=extra.drop(extra.loc[extra[\"Estación\"]==\"Nazaret Meteo\",:].index)\n",
        "\n",
        "\n",
        "#mezclamos ambas tablas POR LA FECHA\n",
        "\n",
        "#hagmos la media sobre la date\n",
        "aux=extra.loc[:,[\"Temp.\",\"Pres.\",\"Precip.\",\"DATE\"]].groupby(by=\"DATE\").mean()\n",
        "\n",
        "merged=pd.merge(datos,aux,how=\"left\",on=\"DATE\")\n",
        "merged.head()\n",
        "print(merged_plus.shape)"
      ],
      "metadata": {
        "id": "AZ3BffD6XbGV"
      },
      "execution_count": null,
      "outputs": []
    },
    {
      "cell_type": "code",
      "source": [
        "#preparamos los datos para la nueva RNN"
      ],
      "metadata": {
        "id": "Jtuh5VPwX6LD"
      },
      "execution_count": null,
      "outputs": []
    },
    {
      "cell_type": "code",
      "source": [
        ""
      ],
      "metadata": {
        "id": "xAa8nJ7yX9AJ"
      },
      "execution_count": null,
      "outputs": []
    }
  ]
}