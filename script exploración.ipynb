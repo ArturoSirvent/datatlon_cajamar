{
 "cells": [
  {
   "cell_type": "markdown",
   "id": "025e0eee-debf-4f4b-9d06-6bc1f5248fe7",
   "metadata": {},
   "source": [
    "<h1> Script predicción</h1> \n",
    "<h2> The Backpropagation Boyz </h2>"
   ]
  },
  {
   "cell_type": "code",
   "execution_count": null,
   "id": "75433cac-2ef8-41da-9453-a2b20a28fd05",
   "metadata": {},
   "outputs": [],
   "source": [
    "import pandas as pd\n",
    "import numpy as np\n",
    "import matplotlib.pyplot as plt\n",
    "from datetime import datetime\n",
    "import seaborn as sns"
   ]
  },
  {
   "cell_type": "code",
   "execution_count": null,
   "id": "2c2176cb-2b33-4b40-9d32-fea7b9d6ab0e",
   "metadata": {},
   "outputs": [],
   "source": []
  },
  {
   "cell_type": "markdown",
   "id": "f647282e-90be-4004-bdae-561e08d41f2e",
   "metadata": {},
   "source": [
    "# Agrupar datos"
   ]
  },
  {
   "cell_type": "code",
   "execution_count": null,
   "id": "e611037c-d806-4b1b-91a4-a62325c9188e",
   "metadata": {},
   "outputs": [],
   "source": [
    "!sort Modelar_UH2022.txt > Modelar_UH2022_sorted.txt\n",
    "!sed '1h;1d;$!H;$!d;G' Modelar_UH2022_sorted.txt > tmp.txt; mv tmp.txt Modelar_UH2022_sorted.txt\n",
    "!rm Modelar_UH2022_agg.txt"
   ]
  },
  {
   "cell_type": "code",
   "execution_count": null,
   "id": "51193812-d967-47b2-bbed-68c6d608f38d",
   "metadata": {},
   "outputs": [],
   "source": [
    "file1 = open('Modelar_UH2022_sorted.txt', 'r')\n",
    "file2 = open('Modelar_UH2022_agg.txt', 'a')\n",
    "iden_pre = \"\"\n",
    "curr_delta = 0\n",
    "curr_reading = 0\n",
    "\n",
    "for i, line in enumerate(file1.readlines()):\n",
    "    if i != 0:\n",
    "        iden, content  = line.split()\n",
    "        content = content.split('|')\n",
    "\n",
    "        if '' in content: content = ['0' if c == '' else c for c in content]\n",
    "\n",
    "        if iden != iden_pre and i!= 1:\n",
    "\n",
    "            file2.write(iden_pre+'|'+ str(curr_reading)+'|'+str(curr_delta)+'\\n')\n",
    "            curr_delta = 0\n",
    "\n",
    "            \n",
    "        curr_reading = int(content[1])*100 + int(content[2])*(10**(2-len(content[2])))\n",
    "\n",
    "        curr_delta += int(content[3])*100 + int(content[4])*(10**(2-len(content[2])))\n",
    "\n",
    "        iden_pre = iden\n",
    "\n",
    "    else:\n",
    "        file2.write('ID|SAMPLETIME|READING|DELTA\\n')\n",
    "\n",
    "file1.close()\n",
    "file2.close()"
   ]
  },
  {
   "cell_type": "code",
   "execution_count": null,
   "id": "6cd3644a-4497-46ab-9767-60915bd6b96f",
   "metadata": {},
   "outputs": [],
   "source": [
    "!rm Modelar_UH2022_sorted.txt"
   ]
  },
  {
   "cell_type": "markdown",
   "id": "6a54c372-34ca-4d9e-8a55-659d92d903ef",
   "metadata": {},
   "source": [
    "# Foo"
   ]
  },
  {
   "cell_type": "code",
   "execution_count": null,
   "id": "0f958e4e-f828-44b6-9bbf-304560facb04",
   "metadata": {},
   "outputs": [],
   "source": [
    "ds = pd.read_csv(\"Modelar_UH2022_agg.txt\", sep='|')\n",
    "print(ds.head)\n",
    "print(ds.shape)"
   ]
  },
  {
   "cell_type": "code",
   "execution_count": null,
   "id": "c24e78d8-acaf-40c8-93f6-8f78a6d03d48",
   "metadata": {},
   "outputs": [],
   "source": [
    "ds = ds.sort_values(by=['ID', 'SAMPLETIME'])"
   ]
  },
  {
   "cell_type": "code",
   "execution_count": null,
   "id": "854765d0-d6a7-49e8-9754-017085af7d99",
   "metadata": {},
   "outputs": [],
   "source": []
  },
  {
   "cell_type": "code",
   "execution_count": null,
   "id": "12b6665c-6a20-420a-8b1b-f5e5ab7e7e14",
   "metadata": {},
   "outputs": [],
   "source": [
    "ts = []\n",
    "\n",
    "for serie in ds['ID'].unique():\n",
    "    if serie% 20 == 0 :print('reading serie:'+ str(serie))\n",
    "    \n",
    "    serie_samples = pd.Series(data=np.zeros(365),index=ds['SAMPLETIME'].unique())\n",
    "    sample = ds.loc[ds['ID'] == serie, 'DELTA']\n",
    "    sample.index = ds.loc[ds['ID'] == serie, 'SAMPLETIME']\n",
    "    serie_samples.loc[ds.loc[(ds['ID'] == serie), 'SAMPLETIME']] = sample\n",
    "    # serie_samples = ds.loc[(ds['ID'] == serie) &  (ds['SAMPLETIME'] == ds['SAMPLETIME'].unique()), 'DELTA']\n",
    "    # print(len(serie_samples))\n",
    "    # for moment in ds['SAMPLETIME'].unique():\n",
    "    #     sample = serie_samples = ds.loc[(ds['ID'] == serie) &  (ds['SAMPLETIME'] == moment), 'DELTA']\n",
    "    #     serie_samples.append(sample)\n",
    "    ts.append(serie_samples)\n",
    "ts = np.array(ts)"
   ]
  },
  {
   "cell_type": "code",
   "execution_count": null,
   "id": "cd36d180-ef24-489a-82df-8e14cebaf142",
   "metadata": {},
   "outputs": [],
   "source": [
    "from sklearn.model_selection import train_test_split\n",
    "from tslearn.clustering import TimeSeriesKMeans\n",
    "from tslearn.preprocessing import TimeSeriesScalerMeanVariance, TimeSeriesResampler\n",
    "scaler = TimeSeriesScalerMeanVariance()\n",
    "ts_norm = scaler.fit_transform(ts)\n",
    "\n",
    "X_train, X_test, ind_train, ind_test = train_test_split(ts_norm, range(len(ts_norm)), test_size=0.8)\n"
   ]
  },
  {
   "cell_type": "code",
   "execution_count": null,
   "id": "21d696d9-8432-470d-9653-fc01e9c63cca",
   "metadata": {},
   "outputs": [],
   "source": [
    "km = TimeSeriesKMeans(n_clusters=10, metric=\"dtw\")\n",
    "y_train = km.fit_predict(X_train)"
   ]
  },
  {
   "cell_type": "code",
   "execution_count": null,
   "id": "75639001-6196-4ac8-a2e8-419d0bcfc6ff",
   "metadata": {},
   "outputs": [],
   "source": [
    "y_test = km.predict(X_test)"
   ]
  },
  {
   "cell_type": "code",
   "execution_count": null,
   "id": "d8d6ab72-9d81-454d-b1ab-53ae654d52ec",
   "metadata": {},
   "outputs": [],
   "source": [
    "ind = np.concatenate([ind_train, ind_test])\n",
    "ids2 = np.concatenate([ids_train, ids_test])\n",
    "X = np.concatenate([X_train, X_test])\n",
    "y = np.concatenate([y_train, y_test])"
   ]
  },
  {
   "cell_type": "code",
   "execution_count": null,
   "id": "e9933b45-5fc2-44db-a1dc-c45382afb5a1",
   "metadata": {},
   "outputs": [],
   "source": [
    "for yi in range(n):\n",
    "    print(sum(y == yi))"
   ]
  },
  {
   "cell_type": "code",
   "execution_count": null,
   "id": "ef9714d9-d089-4543-9abd-00389c8f8985",
   "metadata": {},
   "outputs": [],
   "source": []
  }
 ],
 "metadata": {
  "kernelspec": {
   "display_name": "default:Python",
   "language": "python",
   "name": "conda-env-default-py"
  },
  "language_info": {
   "codemirror_mode": {
    "name": "ipython",
    "version": 3
   },
   "file_extension": ".py",
   "mimetype": "text/x-python",
   "name": "python",
   "nbconvert_exporter": "python",
   "pygments_lexer": "ipython3",
   "version": "3.9.10"
  }
 },
 "nbformat": 4,
 "nbformat_minor": 5
}
