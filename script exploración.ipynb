{
 "cells": [
  {
   "cell_type": "markdown",
   "id": "025e0eee-debf-4f4b-9d06-6bc1f5248fe7",
   "metadata": {},
   "source": [
    "<h1> Script predicción</h1> \n",
    "<h2> The Backpropagation Boyz </h2>"
   ]
  },
  {
   "cell_type": "code",
   "execution_count": null,
   "id": "75433cac-2ef8-41da-9453-a2b20a28fd05",
   "metadata": {},
   "outputs": [],
   "source": []
  },
  {
   "cell_type": "code",
   "execution_count": null,
   "id": "972ff2ad-7bd2-411a-a774-c9f2ab53af9c",
   "metadata": {},
   "outputs": [],
   "source": []
  },
  {
   "cell_type": "code",
   "execution_count": null,
   "id": "e611037c-d806-4b1b-91a4-a62325c9188e",
   "metadata": {},
   "outputs": [],
   "source": []
  }
 ],
 "metadata": {
  "kernelspec": {
   "display_name": "default:Python",
   "language": "python",
   "name": "conda-env-default-py"
  },
  "language_info": {
   "codemirror_mode": {
    "name": "ipython",
    "version": 3
   },
   "file_extension": ".py",
   "mimetype": "text/x-python",
   "name": "python",
   "nbconvert_exporter": "python",
   "pygments_lexer": "ipython3",
   "version": "3.9.10"
  }
 },
 "nbformat": 4,
 "nbformat_minor": 5
}
