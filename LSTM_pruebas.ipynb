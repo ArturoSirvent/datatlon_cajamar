{
  "cells": [
    {
      "cell_type": "code",
      "execution_count": 2,
      "id": "19bcdfd9",
      "metadata": {
        "id": "19bcdfd9"
      },
      "outputs": [],
      "source": [
        "import pandas as pd\n",
        "import numpy as np\n",
        "import matplotlib.pyplot as plt\n",
        "from datetime import datetime\n",
        "import seaborn as sns\n",
        "\n",
        "from sklearn.model_selection import train_test_split\n"
      ]
    },
    {
      "cell_type": "code",
      "source": [
        "pip install tslearn \n",
        "from tslearn.clustering import TimeSeriesKMeans\n",
        "from tslearn.preprocessing import TimeSeriesScalerMeanVariance, TimeSeriesResampler"
      ],
      "metadata": {
        "colab": {
          "base_uri": "https://localhost:8080/",
          "height": 135
        },
        "id": "VvYO0gbfV9Y8",
        "outputId": "53a672f1-27b0-4768-c6a1-1a42cda3579d"
      },
      "id": "VvYO0gbfV9Y8",
      "execution_count": 1,
      "outputs": [
        {
          "output_type": "error",
          "ename": "SyntaxError",
          "evalue": "ignored",
          "traceback": [
            "\u001b[0;36m  File \u001b[0;32m\"<ipython-input-1-2ea618ac733a>\"\u001b[0;36m, line \u001b[0;32m1\u001b[0m\n\u001b[0;31m    pip install tslearn\u001b[0m\n\u001b[0m              ^\u001b[0m\n\u001b[0;31mSyntaxError\u001b[0m\u001b[0;31m:\u001b[0m invalid syntax\n"
          ]
        }
      ]
    },
    {
      "cell_type": "code",
      "execution_count": 3,
      "id": "83a56f33",
      "metadata": {
        "id": "83a56f33"
      },
      "outputs": [],
      "source": [
        "ds = pd.read_csv(\"/content/Modelar_UH2022_agg.txt\", sep='|')\n",
        "ds['SAMPLETIME'] = pd.to_datetime(ds['SAMPLETIME'], infer_datetime_format=True)  \n",
        "ds = ds.sort_values(by=['ID', 'SAMPLETIME'])"
      ]
    },
    {
      "cell_type": "code",
      "source": [
        ""
      ],
      "metadata": {
        "id": "LYPYHpbMCxoG"
      },
      "id": "LYPYHpbMCxoG",
      "execution_count": null,
      "outputs": []
    },
    {
      "cell_type": "code",
      "execution_count": 151,
      "id": "fed608be",
      "metadata": {
        "colab": {
          "base_uri": "https://localhost:8080/"
        },
        "id": "fed608be",
        "outputId": "398b4ee3-a863-4a11-ec9e-cc4dad444fbd"
      },
      "outputs": [
        {
          "output_type": "stream",
          "name": "stdout",
          "text": [
            "reading serie:0\n",
            "reading serie:20\n",
            "reading serie:40\n",
            "reading serie:60\n",
            "reading serie:80\n",
            "reading serie:100\n",
            "reading serie:120\n",
            "reading serie:140\n",
            "reading serie:160\n",
            "reading serie:180\n",
            "reading serie:200\n",
            "reading serie:220\n",
            "reading serie:240\n",
            "reading serie:260\n",
            "reading serie:280\n",
            "reading serie:300\n",
            "reading serie:320\n",
            "reading serie:340\n",
            "reading serie:360\n",
            "reading serie:380\n",
            "reading serie:400\n",
            "reading serie:420\n",
            "reading serie:440\n",
            "reading serie:460\n",
            "reading serie:480\n",
            "reading serie:500\n",
            "reading serie:520\n",
            "reading serie:540\n",
            "reading serie:560\n",
            "reading serie:580\n",
            "reading serie:600\n",
            "reading serie:620\n",
            "reading serie:640\n",
            "reading serie:660\n",
            "reading serie:680\n",
            "reading serie:700\n",
            "reading serie:720\n",
            "reading serie:740\n",
            "reading serie:760\n",
            "reading serie:780\n",
            "reading serie:800\n",
            "reading serie:820\n",
            "reading serie:840\n",
            "reading serie:860\n",
            "reading serie:880\n",
            "reading serie:900\n",
            "reading serie:920\n",
            "reading serie:940\n",
            "reading serie:960\n",
            "reading serie:980\n",
            "reading serie:1000\n",
            "reading serie:1020\n",
            "reading serie:1040\n",
            "reading serie:1060\n",
            "reading serie:1080\n",
            "reading serie:1100\n",
            "reading serie:1120\n",
            "reading serie:1140\n",
            "reading serie:1160\n",
            "reading serie:1180\n",
            "reading serie:1200\n",
            "reading serie:1220\n",
            "reading serie:1240\n",
            "reading serie:1260\n",
            "reading serie:1280\n",
            "reading serie:1300\n",
            "reading serie:1320\n",
            "reading serie:1340\n",
            "reading serie:1360\n",
            "reading serie:1380\n",
            "reading serie:1400\n",
            "reading serie:1420\n",
            "reading serie:1440\n",
            "reading serie:1460\n",
            "reading serie:1480\n",
            "reading serie:1500\n",
            "reading serie:1520\n",
            "reading serie:1540\n",
            "reading serie:1560\n",
            "reading serie:1580\n",
            "reading serie:1600\n",
            "reading serie:1620\n",
            "reading serie:1640\n",
            "reading serie:1660\n",
            "reading serie:1680\n",
            "reading serie:1700\n",
            "reading serie:1720\n",
            "reading serie:1740\n",
            "reading serie:1760\n",
            "reading serie:1780\n",
            "reading serie:1800\n",
            "reading serie:1820\n",
            "reading serie:1840\n",
            "reading serie:1860\n",
            "reading serie:1880\n",
            "reading serie:1900\n",
            "reading serie:1920\n",
            "reading serie:1940\n",
            "reading serie:1960\n",
            "reading serie:1980\n",
            "reading serie:2000\n",
            "reading serie:2020\n",
            "reading serie:2040\n",
            "reading serie:2060\n",
            "reading serie:2080\n",
            "reading serie:2100\n",
            "reading serie:2120\n",
            "reading serie:2140\n",
            "reading serie:2160\n",
            "reading serie:2180\n",
            "reading serie:2200\n",
            "reading serie:2220\n",
            "reading serie:2240\n",
            "reading serie:2260\n",
            "reading serie:2280\n",
            "reading serie:2300\n",
            "reading serie:2320\n",
            "reading serie:2340\n",
            "reading serie:2360\n",
            "reading serie:2380\n",
            "reading serie:2400\n",
            "reading serie:2420\n",
            "reading serie:2440\n",
            "reading serie:2460\n",
            "reading serie:2480\n",
            "reading serie:2500\n",
            "reading serie:2520\n",
            "reading serie:2540\n",
            "reading serie:2560\n",
            "reading serie:2580\n",
            "reading serie:2600\n",
            "reading serie:2620\n",
            "reading serie:2640\n",
            "reading serie:2660\n",
            "reading serie:2680\n",
            "reading serie:2700\n",
            "reading serie:2720\n"
          ]
        }
      ],
      "source": [
        "ts = []\n",
        "ids = []\n",
        "\n",
        "for serie in ds['ID'].unique():\n",
        "    if serie% 20 == 0 :print('reading serie:'+ str(serie))\n",
        "    \n",
        "    serie_samples = pd.Series(data=np.zeros(365),index=ds['SAMPLETIME'].unique())\n",
        "    sample = ds.loc[ds['ID'] == serie, 'DELTA']\n",
        "    sample.index = ds.loc[ds['ID'] == serie, 'SAMPLETIME']\n",
        "    serie_samples.loc[ds.loc[(ds['ID'] == serie), 'SAMPLETIME']] = sample\n",
        "    ts.append(serie_samples)\n",
        "    ids.append(serie)\n",
        "\n",
        "ts = np.array(ts).T"
      ]
    },
    {
      "cell_type": "code",
      "source": [
        "df = pd.DataFrame(ts)\n",
        "\n",
        "muestra = df.iloc[:,0]\n",
        "scaler = [np.max(muestra), np.min(muestra)]\n",
        "muestra = (np.array(muestra)-scaler[1])/(scaler[0]-scaler[1])\n",
        "df.iloc[:,0] = muestra\n",
        "\n",
        "train = muestra[0:330]\n",
        "valid = muestra[330:]"
      ],
      "metadata": {
        "id": "92D2EkvtDSHK"
      },
      "id": "92D2EkvtDSHK",
      "execution_count": 152,
      "outputs": []
    },
    {
      "cell_type": "markdown",
      "id": "bf8c640c",
      "metadata": {
        "id": "bf8c640c"
      },
      "source": [
        "# Model"
      ]
    },
    {
      "cell_type": "code",
      "execution_count": 15,
      "id": "dc45bf4e",
      "metadata": {
        "id": "dc45bf4e"
      },
      "outputs": [],
      "source": [
        "from keras.models import Sequential\n",
        "from keras.layers import Dense, Lambda\n",
        "from keras.layers import LSTM\n",
        "import tensorflow as tf"
      ]
    },
    {
      "cell_type": "code",
      "source": [
        "weights = np.exp((np.arange(30)-30)/10)\n",
        "weights"
      ],
      "metadata": {
        "colab": {
          "base_uri": "https://localhost:8080/"
        },
        "id": "qYG95iIPbXX-",
        "outputId": "ba7d6352-9284-43b8-e19a-c4b579b27d75"
      },
      "id": "qYG95iIPbXX-",
      "execution_count": 209,
      "outputs": [
        {
          "output_type": "execute_result",
          "data": {
            "text/plain": [
              "array([0.04978707, 0.05502322, 0.06081006, 0.06720551, 0.07427358,\n",
              "       0.082085  , 0.09071795, 0.10025884, 0.11080316, 0.12245643,\n",
              "       0.13533528, 0.14956862, 0.16529889, 0.18268352, 0.20189652,\n",
              "       0.22313016, 0.24659696, 0.27253179, 0.30119421, 0.33287108,\n",
              "       0.36787944, 0.40656966, 0.44932896, 0.4965853 , 0.54881164,\n",
              "       0.60653066, 0.67032005, 0.74081822, 0.81873075, 0.90483742])"
            ]
          },
          "metadata": {},
          "execution_count": 209
        }
      ]
    },
    {
      "cell_type": "code",
      "source": [
        "x_train, y_train = [], []\n",
        "for i in range(60,len(train)):\n",
        "    x_train.append(df.iloc[i-30:i,0]*weights)\n",
        "    y_train.append(df.iloc[i,0])\n",
        "x_train, y_train = np.array(x_train), np.array(y_train)\n",
        "\n",
        "x_train = np.reshape(x_train, (x_train.shape[0],x_train.shape[1],1))"
      ],
      "metadata": {
        "id": "Yd0_X5liGgPs"
      },
      "id": "Yd0_X5liGgPs",
      "execution_count": 211,
      "outputs": []
    },
    {
      "cell_type": "code",
      "execution_count": 215,
      "id": "26691d78",
      "metadata": {
        "id": "26691d78",
        "outputId": "1fd7d2e4-7963-42e7-cc63-a6247ec58b4e",
        "colab": {
          "base_uri": "https://localhost:8080/"
        }
      },
      "outputs": [
        {
          "output_type": "execute_result",
          "data": {
            "text/plain": [
              "<bound method Model.summary of <keras.engine.sequential.Sequential object at 0x7f2b283fd6d0>>"
            ]
          },
          "metadata": {},
          "execution_count": 215
        }
      ],
      "source": [
        "model = Sequential([\n",
        "                LSTM(256,input_shape= (x_train.shape[1],1), return_sequences=True, use_bias=True),\n",
        "                    \n",
        "                # Lambda(lambda x: x[:, -366:, :]),\n",
        "                Dense(units=1)\n",
        "            ])\n",
        "\n",
        "model.compile(loss='mean_squared_error', optimizer='adam')\n",
        "model.summary"
      ]
    },
    {
      "cell_type": "code",
      "execution_count": 213,
      "id": "8c1b442c",
      "metadata": {
        "id": "8c1b442c"
      },
      "outputs": [],
      "source": [
        "inputs = df.iloc[(len(df.iloc[:,0]) - len(valid) - 30):,0].values\n",
        "inputs = inputs.reshape(-1,1)\n",
        "\n",
        "X_test = []\n",
        "for i in range(30,inputs.shape[0]):\n",
        "    X_test.append(inputs[i-30:i,0]*weights)\n",
        "X_test = np.array(X_test)\n",
        "y_test = valid\n",
        "X_test = np.reshape(X_test, (X_test.shape[0],X_test.shape[1],1))\n"
      ]
    },
    {
      "cell_type": "code",
      "source": [
        "X_test.shape"
      ],
      "metadata": {
        "colab": {
          "base_uri": "https://localhost:8080/"
        },
        "id": "qwp_eS-XNwXV",
        "outputId": "37ae7a87-7f18-4902-d022-0f1a3387218c"
      },
      "id": "qwp_eS-XNwXV",
      "execution_count": 65,
      "outputs": [
        {
          "output_type": "execute_result",
          "data": {
            "text/plain": [
              "(35, 60, 1)"
            ]
          },
          "metadata": {},
          "execution_count": 65
        }
      ]
    },
    {
      "cell_type": "code",
      "execution_count": 227,
      "id": "a0bd808b",
      "metadata": {
        "id": "a0bd808b",
        "outputId": "a132e737-1817-4045-83bb-504ad4275fbd",
        "colab": {
          "base_uri": "https://localhost:8080/"
        }
      },
      "outputs": [
        {
          "output_type": "stream",
          "name": "stdout",
          "text": [
            "Epoch 1/50\n",
            "9/9 [==============================] - 1s 122ms/step - loss: 0.0353 - val_loss: 0.0222\n",
            "Epoch 2/50\n",
            "9/9 [==============================] - 1s 108ms/step - loss: 0.0359 - val_loss: 0.0213\n",
            "Epoch 3/50\n",
            "9/9 [==============================] - 1s 107ms/step - loss: 0.0354 - val_loss: 0.0250\n",
            "Epoch 4/50\n",
            "9/9 [==============================] - 1s 102ms/step - loss: 0.0356 - val_loss: 0.0207\n",
            "Epoch 5/50\n",
            "9/9 [==============================] - 1s 102ms/step - loss: 0.0352 - val_loss: 0.0220\n",
            "Epoch 6/50\n",
            "9/9 [==============================] - 1s 108ms/step - loss: 0.0353 - val_loss: 0.0219\n",
            "Epoch 7/50\n",
            "9/9 [==============================] - 1s 133ms/step - loss: 0.0351 - val_loss: 0.0217\n",
            "Epoch 8/50\n",
            "9/9 [==============================] - 1s 151ms/step - loss: 0.0352 - val_loss: 0.0212\n",
            "Epoch 9/50\n",
            "9/9 [==============================] - 1s 105ms/step - loss: 0.0352 - val_loss: 0.0217\n",
            "Epoch 10/50\n",
            "9/9 [==============================] - 1s 104ms/step - loss: 0.0351 - val_loss: 0.0214\n",
            "Epoch 11/50\n",
            "9/9 [==============================] - 1s 107ms/step - loss: 0.0353 - val_loss: 0.0220\n",
            "Epoch 12/50\n",
            "9/9 [==============================] - 1s 134ms/step - loss: 0.0350 - val_loss: 0.0210\n",
            "Epoch 13/50\n",
            "9/9 [==============================] - 1s 133ms/step - loss: 0.0350 - val_loss: 0.0215\n",
            "Epoch 14/50\n",
            "9/9 [==============================] - 1s 128ms/step - loss: 0.0351 - val_loss: 0.0224\n",
            "Epoch 15/50\n",
            "9/9 [==============================] - 1s 127ms/step - loss: 0.0350 - val_loss: 0.0211\n",
            "Epoch 16/50\n",
            "9/9 [==============================] - 1s 132ms/step - loss: 0.0352 - val_loss: 0.0210\n",
            "Epoch 17/50\n",
            "9/9 [==============================] - 1s 154ms/step - loss: 0.0349 - val_loss: 0.0225\n",
            "Epoch 18/50\n",
            "9/9 [==============================] - 1s 153ms/step - loss: 0.0351 - val_loss: 0.0221\n",
            "Epoch 19/50\n",
            "9/9 [==============================] - 1s 129ms/step - loss: 0.0353 - val_loss: 0.0207\n",
            "Epoch 20/50\n",
            "9/9 [==============================] - 1s 99ms/step - loss: 0.0351 - val_loss: 0.0211\n",
            "Epoch 21/50\n",
            "9/9 [==============================] - 1s 101ms/step - loss: 0.0349 - val_loss: 0.0222\n",
            "Epoch 22/50\n",
            "9/9 [==============================] - 1s 105ms/step - loss: 0.0350 - val_loss: 0.0213\n",
            "Epoch 23/50\n",
            "9/9 [==============================] - 1s 104ms/step - loss: 0.0350 - val_loss: 0.0213\n",
            "Epoch 24/50\n",
            "9/9 [==============================] - 1s 104ms/step - loss: 0.0350 - val_loss: 0.0219\n",
            "Epoch 25/50\n",
            "9/9 [==============================] - 1s 106ms/step - loss: 0.0350 - val_loss: 0.0206\n",
            "Epoch 26/50\n",
            "9/9 [==============================] - 1s 102ms/step - loss: 0.0347 - val_loss: 0.0229\n",
            "Epoch 27/50\n",
            "9/9 [==============================] - 1s 106ms/step - loss: 0.0354 - val_loss: 0.0222\n",
            "Epoch 28/50\n",
            "9/9 [==============================] - 1s 104ms/step - loss: 0.0347 - val_loss: 0.0200\n",
            "Epoch 29/50\n",
            "9/9 [==============================] - 1s 107ms/step - loss: 0.0349 - val_loss: 0.0216\n",
            "Epoch 30/50\n",
            "9/9 [==============================] - 1s 110ms/step - loss: 0.0350 - val_loss: 0.0224\n",
            "Epoch 31/50\n",
            "9/9 [==============================] - 1s 107ms/step - loss: 0.0351 - val_loss: 0.0208\n",
            "Epoch 32/50\n",
            "9/9 [==============================] - 1s 100ms/step - loss: 0.0356 - val_loss: 0.0220\n",
            "Epoch 33/50\n",
            "9/9 [==============================] - 1s 104ms/step - loss: 0.0349 - val_loss: 0.0209\n",
            "Epoch 34/50\n",
            "9/9 [==============================] - 1s 103ms/step - loss: 0.0348 - val_loss: 0.0216\n",
            "Epoch 35/50\n",
            "9/9 [==============================] - 1s 108ms/step - loss: 0.0348 - val_loss: 0.0208\n",
            "Epoch 36/50\n",
            "9/9 [==============================] - 1s 105ms/step - loss: 0.0349 - val_loss: 0.0214\n",
            "Epoch 37/50\n",
            "9/9 [==============================] - 1s 106ms/step - loss: 0.0349 - val_loss: 0.0207\n",
            "Epoch 38/50\n",
            "9/9 [==============================] - 1s 107ms/step - loss: 0.0349 - val_loss: 0.0218\n",
            "Epoch 39/50\n",
            "9/9 [==============================] - 1s 105ms/step - loss: 0.0349 - val_loss: 0.0212\n",
            "Epoch 40/50\n",
            "9/9 [==============================] - 1s 104ms/step - loss: 0.0348 - val_loss: 0.0205\n",
            "Epoch 41/50\n",
            "9/9 [==============================] - 1s 114ms/step - loss: 0.0349 - val_loss: 0.0217\n",
            "Epoch 42/50\n",
            "9/9 [==============================] - 1s 104ms/step - loss: 0.0348 - val_loss: 0.0221\n",
            "Epoch 43/50\n",
            "9/9 [==============================] - 1s 107ms/step - loss: 0.0350 - val_loss: 0.0215\n",
            "Epoch 44/50\n",
            "9/9 [==============================] - 1s 102ms/step - loss: 0.0348 - val_loss: 0.0205\n",
            "Epoch 45/50\n",
            "9/9 [==============================] - 1s 102ms/step - loss: 0.0348 - val_loss: 0.0216\n",
            "Epoch 46/50\n",
            "9/9 [==============================] - 1s 103ms/step - loss: 0.0348 - val_loss: 0.0225\n",
            "Epoch 47/50\n",
            "9/9 [==============================] - 1s 108ms/step - loss: 0.0352 - val_loss: 0.0219\n",
            "Epoch 48/50\n",
            "9/9 [==============================] - 1s 107ms/step - loss: 0.0361 - val_loss: 0.0199\n",
            "Epoch 49/50\n",
            "9/9 [==============================] - 1s 107ms/step - loss: 0.0357 - val_loss: 0.0250\n",
            "Epoch 50/50\n",
            "9/9 [==============================] - 1s 105ms/step - loss: 0.0351 - val_loss: 0.0206\n"
          ]
        },
        {
          "output_type": "execute_result",
          "data": {
            "text/plain": [
              "<keras.callbacks.History at 0x7f2b2fca4c10>"
            ]
          },
          "metadata": {},
          "execution_count": 227
        }
      ],
      "source": [
        "model.fit(x_train,y_train,validation_data=(X_test, y_test),epochs=50)"
      ]
    },
    {
      "cell_type": "code",
      "source": [
        "consumption_pred = model.predict(X_test)"
      ],
      "metadata": {
        "id": "NyNOllFuNcb7"
      },
      "id": "NyNOllFuNcb7",
      "execution_count": 217,
      "outputs": []
    },
    {
      "cell_type": "code",
      "source": [
        "y_train.shape"
      ],
      "metadata": {
        "colab": {
          "base_uri": "https://localhost:8080/"
        },
        "id": "txxr7OMwRsiQ",
        "outputId": "be937881-a073-47ee-d88c-b81e5eb979aa"
      },
      "id": "txxr7OMwRsiQ",
      "execution_count": 171,
      "outputs": [
        {
          "output_type": "execute_result",
          "data": {
            "text/plain": [
              "(270,)"
            ]
          },
          "metadata": {},
          "execution_count": 171
        }
      ]
    },
    {
      "cell_type": "markdown",
      "source": [
        "# Resultados"
      ],
      "metadata": {
        "id": "Zn4K4QbqHfnt"
      },
      "id": "Zn4K4QbqHfnt"
    },
    {
      "cell_type": "code",
      "source": [
        "valid = valid*(scaler[0]-scaler[1])+scaler[1]\n",
        "consumption_pred = consumption_pred*(scaler[0]-scaler[1])+scaler[1]\n",
        "train = train*(scaler[0]-scaler[1])+scaler[1]\n",
        "\n",
        "\n",
        "print(rmse)"
      ],
      "metadata": {
        "colab": {
          "base_uri": "https://localhost:8080/",
          "height": 226
        },
        "id": "fObcFzpjHhkU",
        "outputId": "2e99f694-f051-4c8c-ed23-001215c49ca8"
      },
      "id": "fObcFzpjHhkU",
      "execution_count": 127,
      "outputs": [
        {
          "output_type": "error",
          "ename": "TypeError",
          "evalue": "ignored",
          "traceback": [
            "\u001b[0;31m---------------------------------------------------------------------------\u001b[0m",
            "\u001b[0;31mTypeError\u001b[0m                                 Traceback (most recent call last)",
            "\u001b[0;32m<ipython-input-127-a4476be82e4e>\u001b[0m in \u001b[0;36m<module>\u001b[0;34m()\u001b[0m\n\u001b[1;32m      3\u001b[0m \u001b[0mtrain\u001b[0m \u001b[0;34m=\u001b[0m \u001b[0mtrain\u001b[0m\u001b[0;34m*\u001b[0m\u001b[0;34m(\u001b[0m\u001b[0mscaler\u001b[0m\u001b[0;34m[\u001b[0m\u001b[0;36m0\u001b[0m\u001b[0;34m]\u001b[0m\u001b[0;34m-\u001b[0m\u001b[0mscaler\u001b[0m\u001b[0;34m[\u001b[0m\u001b[0;36m1\u001b[0m\u001b[0;34m]\u001b[0m\u001b[0;34m)\u001b[0m\u001b[0;34m+\u001b[0m\u001b[0mscaler\u001b[0m\u001b[0;34m[\u001b[0m\u001b[0;36m1\u001b[0m\u001b[0;34m]\u001b[0m\u001b[0;34m\u001b[0m\u001b[0;34m\u001b[0m\u001b[0m\n\u001b[1;32m      4\u001b[0m \u001b[0;34m\u001b[0m\u001b[0m\n\u001b[0;32m----> 5\u001b[0;31m \u001b[0mrmse\u001b[0m\u001b[0;34m=\u001b[0m\u001b[0mnp\u001b[0m\u001b[0;34m.\u001b[0m\u001b[0msqrt\u001b[0m\u001b[0;34m(\u001b[0m\u001b[0mnp\u001b[0m\u001b[0;34m.\u001b[0m\u001b[0mmean\u001b[0m\u001b[0;34m(\u001b[0m\u001b[0mnp\u001b[0m\u001b[0;34m.\u001b[0m\u001b[0mpower\u001b[0m\u001b[0;34m(\u001b[0m\u001b[0;34m(\u001b[0m\u001b[0mvalid\u001b[0m\u001b[0;34m-\u001b[0m\u001b[0mconsumption_pred\u001b[0m\u001b[0;34m[\u001b[0m\u001b[0;34m:\u001b[0m\u001b[0;34m,\u001b[0m\u001b[0;34m-\u001b[0m\u001b[0;36m1\u001b[0m\u001b[0;34m]\u001b[0m\u001b[0;34m)\u001b[0m\u001b[0;34m)\u001b[0m\u001b[0;34m)\u001b[0m\u001b[0;34m)\u001b[0m\u001b[0;34m\u001b[0m\u001b[0;34m\u001b[0m\u001b[0m\n\u001b[0m\u001b[1;32m      6\u001b[0m \u001b[0mprint\u001b[0m\u001b[0;34m(\u001b[0m\u001b[0mrmse\u001b[0m\u001b[0;34m)\u001b[0m\u001b[0;34m\u001b[0m\u001b[0;34m\u001b[0m\u001b[0m\n",
            "\u001b[0;31mTypeError\u001b[0m: power() takes from 2 to 3 positional arguments but 1 were given"
          ]
        }
      ]
    },
    {
      "cell_type": "code",
      "source": [
        "history = model\n",
        "\n",
        "sns.set_theme()\n",
        "plt.figure(figsize=(14,5))\n",
        "# \"Loss\"\n",
        "plt.plot(history.history.history['loss'])\n",
        "plt.plot(history.history.history['val_loss'])\n",
        "plt.title('model loss')\n",
        "plt.ylabel('loss')\n",
        "plt.xlabel('epoch')\n",
        "plt.legend(['train', 'validation'], loc='upper left')\n"
      ],
      "metadata": {
        "colab": {
          "base_uri": "https://localhost:8080/",
          "height": 360
        },
        "id": "w027TTpISIUs",
        "outputId": "3ebae5ed-efa1-4cc8-e340-0241c13443b7"
      },
      "id": "w027TTpISIUs",
      "execution_count": 228,
      "outputs": [
        {
          "output_type": "execute_result",
          "data": {
            "text/plain": [
              "<matplotlib.legend.Legend at 0x7f2b28654690>"
            ]
          },
          "metadata": {},
          "execution_count": 228
        },
        {
          "output_type": "display_data",
          "data": {
            "image/png": "[encoded data removed]",
            "text/plain": [
              "<Figure size 1008x360 with 1 Axes>"
            ]
          },
          "metadata": {}
        }
      ]
    },
    {
      "cell_type": "code",
      "source": [
        "model.history.history"
      ],
      "metadata": {
        "colab": {
          "base_uri": "https://localhost:8080/"
        },
        "id": "txnAltlyZkrI",
        "outputId": "2011e924-5a4b-45ef-95eb-a8015c993bd7"
      },
      "id": "txnAltlyZkrI",
      "execution_count": 219,
      "outputs": [
        {
          "output_type": "execute_result",
          "data": {
            "text/plain": [
              "{}"
            ]
          },
          "metadata": {},
          "execution_count": 219
        }
      ]
    },
    {
      "cell_type": "code",
      "source": [
        "X_test.shape"
      ],
      "metadata": {
        "colab": {
          "base_uri": "https://localhost:8080/"
        },
        "id": "C43HYOsjJoYE",
        "outputId": "867a0eab-a361-4f5f-e96b-86050f249683"
      },
      "id": "C43HYOsjJoYE",
      "execution_count": 37,
      "outputs": [
        {
          "output_type": "execute_result",
          "data": {
            "text/plain": [
              "(260905, 60)"
            ]
          },
          "metadata": {},
          "execution_count": 37
        }
      ]
    },
    {
      "cell_type": "code",
      "source": [
        "fig = plt.figure()\n",
        "plt.plot(np.arange(60,330),y_train)\n",
        "plt.plot(np.arange(330,365),y_test)\n",
        "plt.plot(np.arange(330,365),consumption_pred.reshape([35,30])[:,-1])"
      ],
      "metadata": {
        "colab": {
          "base_uri": "https://localhost:8080/",
          "height": 286
        },
        "id": "3oyONp13H1oM",
        "outputId": "5151f3cf-19b5-4d75-87f6-eced11374d85"
      },
      "execution_count": 226,
      "outputs": [
        {
          "output_type": "execute_result",
          "data": {
            "text/plain": [
              "[<matplotlib.lines.Line2D at 0x7f2b2864e950>]"
            ]
          },
          "metadata": {},
          "execution_count": 226
        },
        {
          "output_type": "display_data",
          "data": {
            "image/png": "[encoded data removed]",
            "text/plain": [
              "<Figure size 432x288 with 1 Axes>"
            ]
          },
          "metadata": {}
        }
      ],
      "id": "3oyONp13H1oM"
    }
  ],
  "metadata": {
    "kernelspec": {
      "display_name": "Python 3",
      "language": "python",
      "name": "python3"
    },
    "language_info": {
      "codemirror_mode": {
        "name": "ipython",
        "version": 3
      },
      "file_extension": ".py",
      "mimetype": "text/x-python",
      "name": "python",
      "nbconvert_exporter": "python",
      "pygments_lexer": "ipython3",
      "version": "3.8.8"
    },
    "colab": {
      "name": "LSTM_pruebas.ipynb",
      "provenance": [],
      "collapsed_sections": []
    }
  },
  "nbformat": 4,
  "nbformat_minor": 5
}